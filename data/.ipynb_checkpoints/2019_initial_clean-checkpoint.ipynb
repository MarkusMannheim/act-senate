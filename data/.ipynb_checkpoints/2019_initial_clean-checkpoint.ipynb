{
 "cells": [
  {
   "cell_type": "code",
   "execution_count": 49,
   "id": "59b7b80a-160a-4341-a709-2a95aa14cea3",
   "metadata": {},
   "outputs": [
    {
     "name": "stdout",
     "output_type": "stream",
     "text": [
      "cleaning ballot papers ... complete\n"
     ]
    }
   ],
   "source": [
    "import pandas as pd, time, numpy as np\n",
    "\n",
    "candidates = pd.read_csv(\n",
    "    \"https://results.aec.gov.au/24310/Website/Downloads/SenateCandidatesDownload-24310.txt\",\n",
    "    sep=\"\\t\",\n",
    "    header=1,\n",
    "    usecols=[0, 1, 2, 3, 4, 5]\n",
    ")\n",
    "candidates[\"CandidateNm\"] = candidates[\"Surname\"] + \" \" + candidates[\"GivenNm\"]\n",
    "candidates = candidates[candidates[\"StateAb\"] == \"ACT\"][[\"PartyAb\", \"PartyNm\", \"CandidateID\", \"CandidateNm\"]]\n",
    "candidates = candidates.replace(np.nan, \"Anthony Pesec\")\n",
    "\n",
    "ballot_papers = pd.read_csv(\n",
    "    \"act_senate_2019.csv\",\n",
    "    usecols=[i for i in range(3, 30)]\n",
    ")\n",
    "\n",
    "vote_options = [x.split(\":\") if x != \"C:\" else [\"C\", \"Anthony Pesec\"] for x in ballot_papers.columns[3:]]\n",
    "\n",
    "choices = pd.DataFrame()\n",
    "choices.index.name = \"code\"\n",
    "\n",
    "for i, option in enumerate(vote_options):\n",
    "    letter, name = option    \n",
    "    code = chr(65 + i) if i < 26 else chr(71 + i)\n",
    "    if name in candidates[\"PartyNm\"].tolist():\n",
    "        choices.at[code, \"PartyNm\"] = candidates[candidates[\"PartyNm\"] == name].iat[0, 1]\n",
    "        choices.at[code, \"PartyAb\"] = candidates[candidates[\"PartyNm\"] == name].iat[0, 0]\n",
    "        choices.at[code, \"btl\"] = False\n",
    "        choices.at[code, \"candidateName\"] = [x for x in vote_options if x[0] == letter][1][1]\n",
    "    else:\n",
    "        choices.at[code, \"PartyNm\"] = candidates[candidates[\"CandidateNm\"] == name].iat[0, 1]\n",
    "        choices.at[code, \"PartyAb\"] = candidates[candidates[\"CandidateNm\"] == name].iat[0, 0]\n",
    "        choices.at[code, \"btl\"] = True\n",
    "        choices.at[code, \"candidateName\"] = candidates[candidates[\"CandidateNm\"] == name].iat[0, 3]        \n",
    "choices.to_csv(\"2019_choices.csv\")\n",
    "\n",
    "start = time.time()\n",
    "interval = 2\n",
    "votes = pd.DataFrame()\n",
    "print(\"cleaning ballot papers ...\", end=\"\\r\")\n",
    "ballot_papers.columns = ballot_papers.columns[:3].tolist() + choices.index.tolist()\n",
    "for i in ballot_papers.index:\n",
    "    prefs = \"\".join(ballot_papers.iloc[i, 3:].sort_values().dropna().index)\n",
    "    votes.at[i, \"voter id\"] = str(ballot_papers.iat[i, 0]).zfill(3) + str(ballot_papers.iat[i, 1]).zfill(3) + str(ballot_papers.iat[i, 2]).zfill(2)\n",
    "    votes.at[i, \"prefs\"] = prefs\n",
    "    if time.time() - interval > start:\n",
    "        interval = interval + 2\n",
    "        print(f\"cleaning ballot papers ... {(i + 1) / len(ballot_papers):.1%}\", end=\"\\r\")\n",
    "print(\"cleaning ballot papers ... complete\")\n",
    "votes.to_csv(\"2019_votes.csv\")"
   ]
  },
  {
   "cell_type": "code",
   "execution_count": null,
   "id": "2336464f-9b03-445d-b50d-9c7cd557e040",
   "metadata": {},
   "outputs": [],
   "source": []
  }
 ],
 "metadata": {
  "kernelspec": {
   "display_name": "Python 3 (ipykernel)",
   "language": "python",
   "name": "python3"
  },
  "language_info": {
   "codemirror_mode": {
    "name": "ipython",
    "version": 3
   },
   "file_extension": ".py",
   "mimetype": "text/x-python",
   "name": "python",
   "nbconvert_exporter": "python",
   "pygments_lexer": "ipython3",
   "version": "3.10.5"
  }
 },
 "nbformat": 4,
 "nbformat_minor": 5
}
