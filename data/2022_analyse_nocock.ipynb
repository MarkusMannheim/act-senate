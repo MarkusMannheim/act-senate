{
 "cells": [
  {
   "cell_type": "code",
   "execution_count": 25,
   "id": "3fade18e-f94c-4206-9301-42c677e58d21",
   "metadata": {},
   "outputs": [
    {
     "name": "stdout",
     "output_type": "stream",
     "text": [
      "sorting votes ... complete\n",
      "analysing votes ... complete\n",
      "votes: 285,032\n",
      "quota: 95,012\n"
     ]
    },
    {
     "data": {
      "text/plain": [
       "Gallagher (elected 1st)    0.333338\n",
       "Seselja (elected 2nd)      0.339599\n",
       "Goreng Goreng              0.305259\n",
       "exhausted                  0.021804\n",
       "dtype: float64"
      ]
     },
     "execution_count": 25,
     "metadata": {},
     "output_type": "execute_result"
    }
   ],
   "source": [
    "import pandas as pd, math, time, json\n",
    "\n",
    "choices = pd.read_csv(\n",
    "    \"2022_choices.csv\",\n",
    "    index_col=\"code\"\n",
    ")\n",
    "choices.drop([\"E\", \"T\", \"U\"], inplace=True)\n",
    "\n",
    "votes = pd.read_csv(\n",
    "    \"2022_votes.csv\",\n",
    "    usecols=[1, 2],\n",
    "    index_col=[\"voter id\"]\n",
    ")\n",
    "votes[\"prefs\"] = votes[\"prefs\"].str.replace(\"[ETU]\", \"\", regex=True)\n",
    "votes = votes.sample(frac=1)\n",
    "\n",
    "for col in [\"first preferences\", \"Gallagher (elected 1st)\", \"Seselja (elected 2nd)\", \"Goreng Goreng\", \"exhausted\"]:\n",
    "    choices.loc[:, col] = 0\n",
    "\n",
    "def sort_prefs(prefs):\n",
    "    new_prefs = []    \n",
    "    for x in prefs:\n",
    "        if choices.at[x, \"btl\"]:\n",
    "            new_prefs.append(x)\n",
    "        else:\n",
    "            new_prefs.append(choices[(choices[\"candidateName\"] == choices.at[x, \"candidateName\"]) & (choices[\"btl\"])].index[0])            \n",
    "    return \"\".join(new_prefs)\n",
    "\n",
    "def distribute(prefs):\n",
    "    prefs = \"\".join([x for x in prefs if x in \"RZ\"])\n",
    "    if len(prefs) == 0:\n",
    "        return [0, 0, 1]\n",
    "    pref = prefs[0]\n",
    "    if pref == \"R\":\n",
    "        return [1, 0, 0]\n",
    "    else:\n",
    "        return [0, 1, 0]\n",
    "\n",
    "start = time.time()\n",
    "interval = 2\n",
    "print(\"sorting votes ...\", end=\"\\r\")\n",
    "for i, voter in enumerate(votes.index):\n",
    "    votes.at[voter, \"prefs\"] = sort_prefs(votes.at[voter, \"prefs\"])\n",
    "    if time.time() - interval > start:\n",
    "        interval = interval + 2\n",
    "        print(f\"sorting votes ... {(i + 1) / len(votes):.1%}\", end=\"\\r\")\n",
    "print(\"sorting votes ... complete\")\n",
    "choices = choices.loc[\"L\":].drop(\"btl\", axis=1)\n",
    "\n",
    "start = time.time()\n",
    "interval = 2\n",
    "print(\"analysing votes ...\", end=\"\\r\")\n",
    "for i, voter in enumerate(votes.index):\n",
    "    prefs = votes.at[voter, \"prefs\"]\n",
    "    if len(prefs) > 0:\n",
    "        first = prefs[0]\n",
    "        dist = distribute(prefs)\n",
    "        choices.at[first, \"first preferences\"] = choices.at[first, \"first preferences\"] + 1\n",
    "        choices.loc[first, \"Seselja (elected 2nd)\":] = choices.loc[first, \"Seselja (elected 2nd)\":] + dist\n",
    "    if time.time() - interval > start:\n",
    "        interval = interval + 2\n",
    "        print(f\"analysing votes ... {(i + 1) / len(votes):.1%}\", end=\"\\r\")\n",
    "print(\"analysing votes ... complete\")\n",
    "\n",
    "total_votes = choices[\"first preferences\"].sum()\n",
    "quota = math.ceil(total_votes / 3) + 1\n",
    "print(f\"votes: {total_votes:,.0f}\")\n",
    "print(f\"quota: {quota:,.0f}\")\n",
    "\n",
    "weight = (choices.at[\"L\", \"first preferences\"] - quota) / choices.at[\"L\", \"first preferences\"]\n",
    "choices.at[\"L\", \"Gallagher (elected 1st)\"] = quota\n",
    "choices.loc[\"L\", \"Seselja (elected 2nd)\":] = choices.loc[\"L\", \"Seselja (elected 2nd)\":] * weight\n",
    "choices.to_csv(\"2022_results_nocock.csv\")\n",
    "\n",
    "choices_pc = choices.copy()\n",
    "choices_pc.loc[:, \"Gallagher (elected 1st)\":] = choices_pc.loc[:, \"Gallagher (elected 1st)\":] / total_votes\n",
    "choices_pc.to_csv(\"2022_results_nocock_pc.csv\")\n",
    "choices_pc.loc[:, \"Gallagher (elected 1st)\":].sum()"
   ]
  },
  {
   "cell_type": "code",
   "execution_count": null,
   "id": "790e9337-cc10-48e5-b9b1-1d934b4166c6",
   "metadata": {},
   "outputs": [],
   "source": []
  }
 ],
 "metadata": {
  "kernelspec": {
   "display_name": "Python 3 (ipykernel)",
   "language": "python",
   "name": "python3"
  },
  "language_info": {
   "codemirror_mode": {
    "name": "ipython",
    "version": 3
   },
   "file_extension": ".py",
   "mimetype": "text/x-python",
   "name": "python",
   "nbconvert_exporter": "python",
   "pygments_lexer": "ipython3",
   "version": "3.10.5"
  }
 },
 "nbformat": 4,
 "nbformat_minor": 5
}
