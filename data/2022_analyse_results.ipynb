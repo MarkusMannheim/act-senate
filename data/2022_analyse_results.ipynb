{
 "cells": [
  {
   "cell_type": "code",
   "execution_count": 1,
   "id": "3fade18e-f94c-4206-9301-42c677e58d21",
   "metadata": {},
   "outputs": [
    {
     "name": "stdout",
     "output_type": "stream",
     "text": [
      "sorting votes ... complete\n",
      "analysing votes ... complete\n",
      "votes: 285,217\n",
      "quota: 95,074\n"
     ]
    },
    {
     "data": {
      "text/plain": [
       "Gallagher (elected)    0.407115\n",
       "Gallagher (quota)      0.333339\n",
       "Seselja                0.286047\n",
       "Pocock                 0.369139\n",
       "exhausted              0.011475\n",
       "dtype: float64"
      ]
     },
     "execution_count": 1,
     "metadata": {},
     "output_type": "execute_result"
    }
   ],
   "source": [
    "import pandas as pd, math, time, json\n",
    "\n",
    "choices = pd.read_csv(\n",
    "    \"2022_choices.csv\",\n",
    "    index_col=\"code\"\n",
    ")\n",
    "\n",
    "votes = pd.read_csv(\n",
    "    \"2022_votes.csv\",\n",
    "    usecols=[1, 2],\n",
    "    index_col=[\"voter id\"]\n",
    ")\n",
    "votes = votes.sample(frac=1)\n",
    "\n",
    "for col in [\"first preferences\", \"Gallagher (elected)\", \"Gallagher (quota)\", \"Seselja\", \"Pocock\", \"exhausted\"]:\n",
    "    choices.loc[:, col] = 0\n",
    "\n",
    "def sort_prefs(prefs):\n",
    "    new_prefs = []    \n",
    "    for x in prefs:\n",
    "        if choices.at[x, \"btl\"]:\n",
    "            new_prefs.append(x)\n",
    "        else:\n",
    "            new_prefs.append(choices[(choices[\"candidateName\"] == choices.at[x, \"candidateName\"]) & (choices[\"btl\"])].index[0])            \n",
    "    return \"\".join(new_prefs)\n",
    "\n",
    "def distribute(prefs):\n",
    "    prefs = \"\".join([x for x in prefs if x in \"LRT\"])\n",
    "    if len(prefs) == 0:\n",
    "        return [0, 0, 0, 0, 1]\n",
    "    pref = prefs[0]\n",
    "    if pref == \"L\":\n",
    "        prefs = \"\".join([x for x in prefs if x in \"RT\"])        \n",
    "        if len(prefs) == 0:\n",
    "            choices.at[\"L\", \"exhausted\"] = choices.at[\"L\", \"exhausted\"] + 1\n",
    "            return [1, 0, 0, 0, 0]\n",
    "        pref = prefs[0]\n",
    "        if pref == \"R\":\n",
    "            choices.at[\"L\", \"Seselja\"] = choices.at[\"L\", \"Seselja\"] + 1\n",
    "            return [1, 0, 0, 0, 0]\n",
    "        else:\n",
    "            choices.at[\"L\", \"Pocock\"] = choices.at[\"L\", \"Pocock\"] + 1\n",
    "            return [1, 0, 0, 0, 0]        \n",
    "    elif pref == \"R\":\n",
    "        return [0, 0, 1, 0, 0]\n",
    "    else:\n",
    "        return [0, 0, 0, 1, 0]\n",
    "\n",
    "start = time.time()\n",
    "interval = 2\n",
    "print(\"sorting votes ...\", end=\"\\r\")\n",
    "for i, voter in enumerate(votes.index):\n",
    "    votes.at[voter, \"prefs\"] = sort_prefs(votes.at[voter, \"prefs\"])\n",
    "    if time.time() - interval > start:\n",
    "        interval = interval + 2\n",
    "        print(f\"sorting votes ... {(i + 1) / len(votes):.1%}\", end=\"\\r\")\n",
    "print(\"sorting votes ... complete\")\n",
    "choices = choices.loc[\"L\":].drop(\"btl\", axis=1)\n",
    "\n",
    "start = time.time()\n",
    "interval = 2\n",
    "print(\"analysing votes ...\", end=\"\\r\")\n",
    "for i, voter in enumerate(votes.index):\n",
    "    prefs = votes.at[voter, \"prefs\"]\n",
    "    first = prefs[0]\n",
    "    dist = distribute(prefs)\n",
    "    choices.at[first, \"first preferences\"] = choices.at[first, \"first preferences\"] + 1\n",
    "    choices.loc[first, \"Gallagher (elected)\":] = choices.loc[first, \"Gallagher (elected)\":] + dist\n",
    "    if time.time() - interval > start:\n",
    "        interval = interval + 2\n",
    "        print(f\"analysing votes ... {(i + 1) / len(votes):.1%}\", end=\"\\r\")\n",
    "print(\"analysing votes ... complete\")\n",
    "\n",
    "total_votes = choices[\"first preferences\"].sum()\n",
    "quota = math.ceil(total_votes / 3) + 1\n",
    "print(f\"votes: {total_votes:,.0f}\")\n",
    "print(f\"quota: {quota:,.0f}\")\n",
    "\n",
    "weight = (choices[\"Gallagher (elected)\"].sum() - quota) / choices[\"Gallagher (elected)\"].sum()\n",
    "choices.at[\"L\", \"Gallagher (quota)\"] = quota\n",
    "choices.loc[\"L\", \"Seselja\":] = choices.loc[\"L\", \"Seselja\":] * weight\n",
    "choices.to_csv(\"2022_results.csv\")\n",
    "\n",
    "choices_pc = choices.copy()\n",
    "choices_pc.loc[:, \"Gallagher (elected)\":] = choices_pc.loc[:, \"Gallagher (elected)\":] / total_votes\n",
    "choices_pc.to_csv(\"2022_results_pc.csv\")\n",
    "choices_pc.loc[:, \"Gallagher (elected)\":].sum()"
   ]
  }
 ],
 "metadata": {
  "kernelspec": {
   "display_name": "Python 3 (ipykernel)",
   "language": "python",
   "name": "python3"
  },
  "language_info": {
   "codemirror_mode": {
    "name": "ipython",
    "version": 3
   },
   "file_extension": ".py",
   "mimetype": "text/x-python",
   "name": "python",
   "nbconvert_exporter": "python",
   "pygments_lexer": "ipython3",
   "version": "3.10.5"
  }
 },
 "nbformat": 4,
 "nbformat_minor": 5
}
