{
 "cells": [
  {
   "cell_type": "code",
   "execution_count": 16,
   "id": "needed-austin",
   "metadata": {},
   "outputs": [
    {
     "data": {
      "text/html": [
       "<div>\n",
       "<style scoped>\n",
       "    .dataframe tbody tr th:only-of-type {\n",
       "        vertical-align: middle;\n",
       "    }\n",
       "\n",
       "    .dataframe tbody tr th {\n",
       "        vertical-align: top;\n",
       "    }\n",
       "\n",
       "    .dataframe thead th {\n",
       "        text-align: right;\n",
       "    }\n",
       "</style>\n",
       "<table border=\"1\" class=\"dataframe\">\n",
       "  <thead>\n",
       "    <tr style=\"text-align: right;\">\n",
       "      <th></th>\n",
       "      <th>first</th>\n",
       "      <th>Katy Gallagher</th>\n",
       "      <th>Zed Seselja</th>\n",
       "      <th>Penny Kyburz</th>\n",
       "      <th>exhausted votes</th>\n",
       "    </tr>\n",
       "    <tr>\n",
       "      <th>party</th>\n",
       "      <th></th>\n",
       "      <th></th>\n",
       "      <th></th>\n",
       "      <th></th>\n",
       "      <th></th>\n",
       "    </tr>\n",
       "  </thead>\n",
       "  <tbody>\n",
       "    <tr>\n",
       "      <th>Labor</th>\n",
       "      <td>106351</td>\n",
       "      <td>90078</td>\n",
       "      <td>2814.022663</td>\n",
       "      <td>13171.648844</td>\n",
       "      <td>287.328493</td>\n",
       "    </tr>\n",
       "    <tr>\n",
       "      <th>Liberals</th>\n",
       "      <td>87496</td>\n",
       "      <td>0</td>\n",
       "      <td>86658.000000</td>\n",
       "      <td>700.000000</td>\n",
       "      <td>138.000000</td>\n",
       "    </tr>\n",
       "    <tr>\n",
       "      <th>Greens</th>\n",
       "      <td>47894</td>\n",
       "      <td>0</td>\n",
       "      <td>23.000000</td>\n",
       "      <td>47869.000000</td>\n",
       "      <td>2.000000</td>\n",
       "    </tr>\n",
       "    <tr>\n",
       "      <th>Anthony Pesec</th>\n",
       "      <td>12571</td>\n",
       "      <td>0</td>\n",
       "      <td>4071.000000</td>\n",
       "      <td>8092.000000</td>\n",
       "      <td>408.000000</td>\n",
       "    </tr>\n",
       "    <tr>\n",
       "      <th>United Australia</th>\n",
       "      <td>6145</td>\n",
       "      <td>0</td>\n",
       "      <td>4053.000000</td>\n",
       "      <td>1905.000000</td>\n",
       "      <td>187.000000</td>\n",
       "    </tr>\n",
       "    <tr>\n",
       "      <th>Sustainable Australia</th>\n",
       "      <td>4457</td>\n",
       "      <td>0</td>\n",
       "      <td>1411.000000</td>\n",
       "      <td>2965.000000</td>\n",
       "      <td>81.000000</td>\n",
       "    </tr>\n",
       "    <tr>\n",
       "      <th>Fraser Anning</th>\n",
       "      <td>2464</td>\n",
       "      <td>0</td>\n",
       "      <td>1894.000000</td>\n",
       "      <td>490.000000</td>\n",
       "      <td>80.000000</td>\n",
       "    </tr>\n",
       "    <tr>\n",
       "      <th>ungrouped</th>\n",
       "      <td>2853</td>\n",
       "      <td>0</td>\n",
       "      <td>1481.000000</td>\n",
       "      <td>1256.000000</td>\n",
       "      <td>116.000000</td>\n",
       "    </tr>\n",
       "  </tbody>\n",
       "</table>\n",
       "</div>"
      ],
      "text/plain": [
       "                        first  Katy Gallagher   Zed Seselja  Penny Kyburz  \\\n",
       "party                                                                       \n",
       "Labor                  106351           90078   2814.022663  13171.648844   \n",
       "Liberals                87496               0  86658.000000    700.000000   \n",
       "Greens                  47894               0     23.000000  47869.000000   \n",
       "Anthony Pesec           12571               0   4071.000000   8092.000000   \n",
       "United Australia         6145               0   4053.000000   1905.000000   \n",
       "Sustainable Australia    4457               0   1411.000000   2965.000000   \n",
       "Fraser Anning            2464               0   1894.000000    490.000000   \n",
       "ungrouped                2853               0   1481.000000   1256.000000   \n",
       "\n",
       "                       exhausted votes  \n",
       "party                                   \n",
       "Labor                       287.328493  \n",
       "Liberals                    138.000000  \n",
       "Greens                        2.000000  \n",
       "Anthony Pesec               408.000000  \n",
       "United Australia            187.000000  \n",
       "Sustainable Australia        81.000000  \n",
       "Fraser Anning                80.000000  \n",
       "ungrouped                   116.000000  "
      ]
     },
     "execution_count": 16,
     "metadata": {},
     "output_type": "execute_result"
    }
   ],
   "source": [
    "import pandas as pd\n",
    "\n",
    "results = pd.read_csv(\"party_results.csv\", index_col=\"party\")\n",
    "votes = round(results.iloc[:, 1:].sum().sum())\n",
    "quota = votes / 3 + 1\n",
    "results"
   ]
  },
  {
   "cell_type": "code",
   "execution_count": 17,
   "id": "answering-operation",
   "metadata": {},
   "outputs": [
    {
     "data": {
      "text/plain": [
       "party\n",
       "Liberals                 0.990422\n",
       "Fraser Anning            0.768669\n",
       "United Australia         0.659561\n",
       "ungrouped                0.519103\n",
       "Anthony Pesec            0.323841\n",
       "Sustainable Australia    0.316581\n",
       "Labor                    0.026460\n",
       "Greens                   0.000480\n",
       "dtype: float64"
      ]
     },
     "execution_count": 17,
     "metadata": {},
     "output_type": "execute_result"
    }
   ],
   "source": [
    "(results[\"Zed Seselja\"] / results[\"first\"]).sort_values(ascending=False)"
   ]
  },
  {
   "cell_type": "code",
   "execution_count": 34,
   "id": "greater-advocate",
   "metadata": {},
   "outputs": [
    {
     "data": {
      "text/plain": [
       "0.28290110625537684"
      ]
     },
     "execution_count": 34,
     "metadata": {},
     "output_type": "execute_result"
    }
   ],
   "source": [
    "results[\"Zed Seselja\"].sum() / votes\n",
    "results[\"Penny Kyburz\"].sum() / votes"
   ]
  },
  {
   "cell_type": "code",
   "execution_count": 33,
   "id": "romance-witness",
   "metadata": {},
   "outputs": [
    {
     "data": {
      "text/plain": [
       "0.15610348183591075"
      ]
     },
     "execution_count": 33,
     "metadata": {},
     "output_type": "execute_result"
    }
   ],
   "source": [
    "(quota - results.loc[\"Greens\", \"first\"]) / votes"
   ]
  },
  {
   "cell_type": "code",
   "execution_count": null,
   "id": "resident-chicken",
   "metadata": {},
   "outputs": [],
   "source": []
  }
 ],
 "metadata": {
  "kernelspec": {
   "display_name": "Python 3",
   "language": "python",
   "name": "python3"
  },
  "language_info": {
   "codemirror_mode": {
    "name": "ipython",
    "version": 3
   },
   "file_extension": ".py",
   "mimetype": "text/x-python",
   "name": "python",
   "nbconvert_exporter": "python",
   "pygments_lexer": "ipython3",
   "version": "3.9.2"
  }
 },
 "nbformat": 4,
 "nbformat_minor": 5
}
